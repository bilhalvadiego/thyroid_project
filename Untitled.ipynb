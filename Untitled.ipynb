{
 "cells": [
  {
   "cell_type": "code",
   "execution_count": 39,
   "id": "dd8e011f",
   "metadata": {
    "ExecuteTime": {
     "end_time": "2022-10-10T22:07:28.733757Z",
     "start_time": "2022-10-10T22:07:28.723995Z"
    }
   },
   "outputs": [
    {
     "name": "stdout",
     "output_type": "stream",
     "text": [
      "{'FTI': [84], 'I131_treatment': [0], 'T3': [0], 'T4U': [0.88], 'TSH': [7.2], 'TT4': [74], 'age': [54], 'goitre': [0], 'hypopituitary': [0], 'lithium': [0], 'on_antithyroid_meds': [0], 'on_thyroxine': [0], 'pregnant': [0], 'psych': [0], 'query_hyperthyroid': [0], 'query_hypothyroid': [1], 'query_on_thyroxine': [0], 'sex': [1], 'sick': [0], 'thyroid_surgery': [0], 'tumor': [0]}\n"
     ]
    }
   ],
   "source": [
    "import requests\n",
    "import pandas as pd\n",
    "url = 'http://127.0.0.1:5000/predict_api'\n",
    "\n",
    "dict_data = {\n",
    "        'age':54,\n",
    "        'sex':1,\n",
    "        'on_thyroxine':0,\n",
    "        'query_on_thyroxine':0,\n",
    "        'on_antithyroid_meds':0,\n",
    "        'sick':0,\n",
    "        'pregnant':0,\n",
    "        'thyroid_surgery':0,\n",
    "        'I131_treatment':0,\n",
    "        'query_hypothyroid':1,\n",
    "        'query_hyperthyroid':0,\n",
    "        'lithium':0,\n",
    "        'goitre':0,\n",
    "        'tumor':0,\n",
    "        'hypopituitary':0,\n",
    "        'psych':0,\n",
    "        'TSH':7.2,\n",
    "        'T3':0,\n",
    "        'TT4':74,\n",
    "        'T4U':0.88,\n",
    "        'FTI':84\n",
    "    }\n",
    "r = requests.post(url,json=dict_data)\n",
    "print(r.json())"
   ]
  },
  {
   "cell_type": "code",
   "execution_count": 40,
   "id": "891f486d",
   "metadata": {
    "ExecuteTime": {
     "end_time": "2022-10-10T22:07:31.172516Z",
     "start_time": "2022-10-10T22:07:31.159366Z"
    }
   },
   "outputs": [
    {
     "data": {
      "text/html": [
       "<div>\n",
       "<style scoped>\n",
       "    .dataframe tbody tr th:only-of-type {\n",
       "        vertical-align: middle;\n",
       "    }\n",
       "\n",
       "    .dataframe tbody tr th {\n",
       "        vertical-align: top;\n",
       "    }\n",
       "\n",
       "    .dataframe thead th {\n",
       "        text-align: right;\n",
       "    }\n",
       "</style>\n",
       "<table border=\"1\" class=\"dataframe\">\n",
       "  <thead>\n",
       "    <tr style=\"text-align: right;\">\n",
       "      <th></th>\n",
       "      <th>FTI</th>\n",
       "      <th>I131_treatment</th>\n",
       "      <th>T3</th>\n",
       "      <th>T4U</th>\n",
       "      <th>TSH</th>\n",
       "      <th>TT4</th>\n",
       "      <th>age</th>\n",
       "      <th>goitre</th>\n",
       "      <th>hypopituitary</th>\n",
       "      <th>lithium</th>\n",
       "      <th>...</th>\n",
       "      <th>on_thyroxine</th>\n",
       "      <th>pregnant</th>\n",
       "      <th>psych</th>\n",
       "      <th>query_hyperthyroid</th>\n",
       "      <th>query_hypothyroid</th>\n",
       "      <th>query_on_thyroxine</th>\n",
       "      <th>sex</th>\n",
       "      <th>sick</th>\n",
       "      <th>thyroid_surgery</th>\n",
       "      <th>tumor</th>\n",
       "    </tr>\n",
       "  </thead>\n",
       "  <tbody>\n",
       "    <tr>\n",
       "      <th>0</th>\n",
       "      <td>84</td>\n",
       "      <td>0</td>\n",
       "      <td>0</td>\n",
       "      <td>0.88</td>\n",
       "      <td>7.2</td>\n",
       "      <td>74</td>\n",
       "      <td>54</td>\n",
       "      <td>0</td>\n",
       "      <td>0</td>\n",
       "      <td>0</td>\n",
       "      <td>...</td>\n",
       "      <td>0</td>\n",
       "      <td>0</td>\n",
       "      <td>0</td>\n",
       "      <td>0</td>\n",
       "      <td>1</td>\n",
       "      <td>0</td>\n",
       "      <td>1</td>\n",
       "      <td>0</td>\n",
       "      <td>0</td>\n",
       "      <td>0</td>\n",
       "    </tr>\n",
       "  </tbody>\n",
       "</table>\n",
       "<p>1 rows × 21 columns</p>\n",
       "</div>"
      ],
      "text/plain": [
       "   FTI  I131_treatment  T3   T4U  TSH  TT4  age  goitre  hypopituitary  \\\n",
       "0   84               0   0  0.88  7.2   74   54       0              0   \n",
       "\n",
       "   lithium  ...  on_thyroxine  pregnant  psych  query_hyperthyroid  \\\n",
       "0        0  ...             0         0      0                   0   \n",
       "\n",
       "   query_hypothyroid  query_on_thyroxine  sex  sick  thyroid_surgery  tumor  \n",
       "0                  1                   0    1     0                0      0  \n",
       "\n",
       "[1 rows x 21 columns]"
      ]
     },
     "execution_count": 40,
     "metadata": {},
     "output_type": "execute_result"
    }
   ],
   "source": [
    "pd.DataFrame(r.json())"
   ]
  },
  {
   "cell_type": "code",
   "execution_count": null,
   "id": "9b9de7ac",
   "metadata": {},
   "outputs": [],
   "source": []
  }
 ],
 "metadata": {
  "kernelspec": {
   "display_name": "Python 3 (ipykernel)",
   "language": "python",
   "name": "python3"
  },
  "language_info": {
   "codemirror_mode": {
    "name": "ipython",
    "version": 3
   },
   "file_extension": ".py",
   "mimetype": "text/x-python",
   "name": "python",
   "nbconvert_exporter": "python",
   "pygments_lexer": "ipython3",
   "version": "3.10.6"
  },
  "latex_envs": {
   "LaTeX_envs_menu_present": true,
   "autoclose": false,
   "autocomplete": true,
   "bibliofile": "biblio.bib",
   "cite_by": "apalike",
   "current_citInitial": 1,
   "eqLabelWithNumbers": true,
   "eqNumInitial": 1,
   "hotkeys": {
    "equation": "Ctrl-E",
    "itemize": "Ctrl-I"
   },
   "labels_anchors": false,
   "latex_user_defs": false,
   "report_style_numbering": false,
   "user_envs_cfg": false
  },
  "toc": {
   "base_numbering": 1,
   "nav_menu": {},
   "number_sections": false,
   "sideBar": true,
   "skip_h1_title": false,
   "title_cell": "Table of Contents",
   "title_sidebar": "Contents",
   "toc_cell": false,
   "toc_position": {},
   "toc_section_display": true,
   "toc_window_display": true
  },
  "varInspector": {
   "cols": {
    "lenName": 16,
    "lenType": 16,
    "lenVar": 40
   },
   "kernels_config": {
    "python": {
     "delete_cmd_postfix": "",
     "delete_cmd_prefix": "del ",
     "library": "var_list.py",
     "varRefreshCmd": "print(var_dic_list())"
    },
    "r": {
     "delete_cmd_postfix": ") ",
     "delete_cmd_prefix": "rm(",
     "library": "var_list.r",
     "varRefreshCmd": "cat(var_dic_list()) "
    }
   },
   "types_to_exclude": [
    "module",
    "function",
    "builtin_function_or_method",
    "instance",
    "_Feature"
   ],
   "window_display": false
  }
 },
 "nbformat": 4,
 "nbformat_minor": 5
}
